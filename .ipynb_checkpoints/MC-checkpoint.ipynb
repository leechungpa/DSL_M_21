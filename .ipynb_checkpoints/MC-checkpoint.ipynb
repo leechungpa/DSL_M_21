{
 "cells": [
  {
   "cell_type": "code",
   "execution_count": 137,
   "metadata": {
    "ExecuteTime": {
     "end_time": "2021-02-26T09:33:33.528207Z",
     "start_time": "2021-02-26T09:33:33.522224Z"
    }
   },
   "outputs": [],
   "source": [
    "from random import *\n",
    "import pandas as pd\n",
    "import itertools\n",
    "import numpy as np\n",
    "import os"
   ]
  },
  {
   "cell_type": "code",
   "execution_count": 138,
   "metadata": {
    "ExecuteTime": {
     "end_time": "2021-02-26T09:36:23.149734Z",
     "start_time": "2021-02-26T09:36:23.143750Z"
    }
   },
   "outputs": [
    {
     "data": {
      "text/plain": [
       "['.git',\n",
       " '.ipynb_checkpoints',\n",
       " '2001-2018 (1).csv',\n",
       " '2019.csv',\n",
       " '2020.csv',\n",
       " 'AO_draw.csv',\n",
       " 'ATP EDA.ipynb',\n",
       " 'MC.ipynb',\n",
       " 'model.ipynb',\n",
       " 'README.md',\n",
       " 'Untitled.ipynb']"
      ]
     },
     "execution_count": 138,
     "metadata": {},
     "output_type": "execute_result"
    }
   ],
   "source": [
    "file_list = os.listdir()\n",
    "file_list"
   ]
  },
  {
   "cell_type": "code",
   "execution_count": 139,
   "metadata": {
    "ExecuteTime": {
     "end_time": "2021-02-26T09:36:32.609696Z",
     "start_time": "2021-02-26T09:36:32.430918Z"
    }
   },
   "outputs": [],
   "source": [
    "train_data = pd.read_csv(file_list[2], index_col=0)\n",
    "test_data19 = pd.read_csv(file_list[3], index_col=0)\n",
    "test_data20 = pd.read_csv(file_list[4], index_col=0)"
   ]
  },
  {
   "cell_type": "code",
   "execution_count": 141,
   "metadata": {
    "ExecuteTime": {
     "end_time": "2021-02-26T09:36:45.342449Z",
     "start_time": "2021-02-26T09:36:45.331462Z"
    }
   },
   "outputs": [],
   "source": [
    "def train_test_split(data):\n",
    "    data = data.copy()\n",
    "    data.drop(['tourney_date', 'winner_id', 'loser_id'], axis=1, inplace=True)\n",
    "    np.random.seed(2021)\n",
    "    random_number = np.random.rand(len(data), ) < 0.5\n",
    "    data_win = data.copy()#[random_number]\n",
    "    data_lose = data.copy()#[~random_number]\n",
    "    data_win['y'] = 1\n",
    "    data_lose['y'] = 0\n",
    "    trim_data = data_lose.rename(columns={'winner_hand': 'loser_hand', 'loser_hand': 'winner_hand',\n",
    "                                          'winner_ht': 'loser_ht', 'loser_ht': 'winner_ht',\n",
    "                                          'winner_age': 'loser_age', 'loser_age': 'winner_age',\n",
    "                                          'winner_rank': 'loser_rank', 'loser_rank': 'winner_rank',\n",
    "                                          'winner_rank_points': 'loser_rank_points', 'loser_rank_points': 'winner_rank_points',\n",
    "                                         })\n",
    "    trim_data = pd.concat([trim_data, data_win])\n",
    "    # more trimming\n",
    "    trim_data['ht_dff'] = trim_data['winner_ht'] - trim_data['loser_ht']\n",
    "    trim_data['rank_points_dff'] = trim_data['winner_rank_points'] - trim_data['loser_rank_points']\n",
    "    trim_data['age_dff'] = trim_data['winner_age'] - trim_data['loser_age']\n",
    "    \n",
    "    trim_data.drop(['winner_ht', 'loser_ht', 'winner_rank_points', 'loser_rank_points', 'winner_age', 'loser_age'], axis=1, inplace=True)\n",
    "    \n",
    "    trim_data.rename(columns={'winner_hand': 'hand',\n",
    "                              'loser_hand': 'opponent_hand',\n",
    "                              'winner_rank': 'rank',\n",
    "                              'loser_rank': 'opponent_rank'}, inplace=True)\n",
    "    # encoding\n",
    "    trim_data.loc[(trim_data.surface == 'Carpet'),'surface'] = np.nan\n",
    "    final_data = pd.get_dummies(trim_data, columns=[\"hand\",'opponent_hand', 'best_of', 'surface'])\n",
    "    final_data.dropna(inplace=True)\n",
    "    # split\n",
    "    print(final_data.shape)\n",
    "    X = final_data.drop([\"Quarter\", 'y', 'Month'], axis=1)\n",
    "    print(X.columns)\n",
    "    y = final_data['y']\n",
    "    return X, y"
   ]
  },
  {
   "cell_type": "code",
   "execution_count": 142,
   "metadata": {
    "ExecuteTime": {
     "end_time": "2021-02-26T09:36:47.389971Z",
     "start_time": "2021-02-26T09:36:47.118661Z"
    }
   },
   "outputs": [
    {
     "name": "stdout",
     "output_type": "stream",
     "text": [
      "(93886, 19)\n",
      "Index(['opponent_rank', 'rank', 'ht_dff', 'rank_points_dff', 'age_dff',\n",
      "       'hand_L', 'hand_R', 'hand_U', 'opponent_hand_L', 'opponent_hand_R',\n",
      "       'opponent_hand_U', 'best_of_3', 'best_of_5', 'surface_Clay',\n",
      "       'surface_Grass', 'surface_Hard'],\n",
      "      dtype='object')\n",
      "(1682, 19)\n",
      "Index(['opponent_rank', 'rank', 'ht_dff', 'rank_points_dff', 'age_dff',\n",
      "       'hand_L', 'hand_R', 'hand_U', 'opponent_hand_L', 'opponent_hand_R',\n",
      "       'opponent_hand_U', 'best_of_3', 'best_of_5', 'surface_Clay',\n",
      "       'surface_Grass', 'surface_Hard'],\n",
      "      dtype='object')\n",
      "(544, 19)\n",
      "Index(['opponent_rank', 'rank', 'ht_dff', 'rank_points_dff', 'age_dff',\n",
      "       'hand_L', 'hand_R', 'hand_U', 'opponent_hand_L', 'opponent_hand_R',\n",
      "       'opponent_hand_U', 'best_of_3', 'best_of_5', 'surface_Clay',\n",
      "       'surface_Grass', 'surface_Hard'],\n",
      "      dtype='object')\n"
     ]
    }
   ],
   "source": [
    "X_train, y_train = train_test_split(train_data)\n",
    "X_test19, y_test19 = train_test_split(test_data19)\n",
    "X_test20, y_test20 = train_test_split(test_data20)"
   ]
  },
  {
   "cell_type": "code",
   "execution_count": 143,
   "metadata": {
    "ExecuteTime": {
     "end_time": "2021-02-26T09:37:43.992901Z",
     "start_time": "2021-02-26T09:37:42.132597Z"
    }
   },
   "outputs": [],
   "source": [
    "from sklearn.model_selection import GridSearchCV, cross_val_score\n",
    "from sklearn.metrics import f1_score, classification_report, confusion_matrix\n",
    "from sklearn.naive_bayes import GaussianNB\n",
    "from sklearn.preprocessing import StandardScaler"
   ]
  },
  {
   "cell_type": "code",
   "execution_count": 144,
   "metadata": {
    "ExecuteTime": {
     "end_time": "2021-02-26T09:37:49.673441Z",
     "start_time": "2021-02-26T09:37:49.669449Z"
    }
   },
   "outputs": [],
   "source": [
    "scaler = StandardScaler()"
   ]
  },
  {
   "cell_type": "code",
   "execution_count": 145,
   "metadata": {
    "ExecuteTime": {
     "end_time": "2021-02-26T09:37:56.558035Z",
     "start_time": "2021-02-26T09:37:56.471266Z"
    }
   },
   "outputs": [
    {
     "data": {
      "text/plain": [
       "StandardScaler()"
      ]
     },
     "execution_count": 145,
     "metadata": {},
     "output_type": "execute_result"
    }
   ],
   "source": [
    "scaler.fit(X_train)"
   ]
  },
  {
   "cell_type": "code",
   "execution_count": 146,
   "metadata": {
    "ExecuteTime": {
     "end_time": "2021-02-26T09:38:04.567628Z",
     "start_time": "2021-02-26T09:38:04.531722Z"
    }
   },
   "outputs": [
    {
     "data": {
      "text/plain": [
       "array([[-0.21583416, -0.61979042,  0.83487897, ..., -0.6956252 ,\n",
       "        -0.34900395,  0.93983751],\n",
       "       [-0.20520374, -0.08826903, -0.7305191 , ..., -0.6956252 ,\n",
       "        -0.34900395,  0.93983751],\n",
       "       [ 0.00740482,  1.9952948 , -0.83487897, ..., -0.6956252 ,\n",
       "        -0.34900395,  0.93983751],\n",
       "       ...,\n",
       "       [-0.75798598, -0.71546427,  1.04359871, ..., -0.6956252 ,\n",
       "        -0.34900395,  0.93983751],\n",
       "       [ 1.98466437, -0.69420341,  1.04359871, ...,  1.43755574,\n",
       "        -0.34900395, -1.06401371],\n",
       "       [-0.42844272, -0.69420341,  1.35667833, ...,  1.43755574,\n",
       "        -0.34900395, -1.06401371]])"
      ]
     },
     "execution_count": 146,
     "metadata": {},
     "output_type": "execute_result"
    }
   ],
   "source": [
    "scaler.transform(X_train)"
   ]
  },
  {
   "cell_type": "code",
   "execution_count": 147,
   "metadata": {
    "ExecuteTime": {
     "end_time": "2021-02-26T09:38:10.842880Z",
     "start_time": "2021-02-26T09:38:10.757106Z"
    }
   },
   "outputs": [
    {
     "name": "stdout",
     "output_type": "stream",
     "text": [
      "Number of mislabeled points out of a total 1682 points : 618\n"
     ]
    }
   ],
   "source": [
    "gnb = GaussianNB()\n",
    "gnb.fit(X_train, y_train)\n",
    "y_pred19 = gnb.predict(X_test19)\n",
    "print(\"Number of mislabeled points out of a total %d points : %d\"\n",
    "      % (X_test19.shape[0], (y_test19 != y_pred19).sum()))"
   ]
  },
  {
   "cell_type": "code",
   "execution_count": 148,
   "metadata": {
    "ExecuteTime": {
     "end_time": "2021-02-26T09:38:22.644317Z",
     "start_time": "2021-02-26T09:38:22.633336Z"
    }
   },
   "outputs": [
    {
     "data": {
      "text/plain": [
       "array([[0.67563787, 0.32436213],\n",
       "       [0.59758447, 0.40241553],\n",
       "       [0.43383242, 0.56616758],\n",
       "       ...,\n",
       "       [0.53196846, 0.46803154],\n",
       "       [0.41764888, 0.58235112],\n",
       "       [0.60140039, 0.39859961]])"
      ]
     },
     "execution_count": 148,
     "metadata": {},
     "output_type": "execute_result"
    }
   ],
   "source": [
    "gnb.predict_proba(X_test19)"
   ]
  },
  {
   "cell_type": "code",
   "execution_count": 81,
   "metadata": {
    "ExecuteTime": {
     "end_time": "2021-02-26T08:11:37.887669Z",
     "start_time": "2021-02-26T08:11:37.867707Z"
    }
   },
   "outputs": [],
   "source": [
    "AO_draw = pd.read_csv(\"AO_draw.csv\")"
   ]
  },
  {
   "cell_type": "code",
   "execution_count": 82,
   "metadata": {
    "ExecuteTime": {
     "end_time": "2021-02-26T08:11:38.600726Z",
     "start_time": "2021-02-26T08:11:38.574795Z"
    },
    "scrolled": true
   },
   "outputs": [
    {
     "data": {
      "text/html": [
       "<div>\n",
       "<style scoped>\n",
       "    .dataframe tbody tr th:only-of-type {\n",
       "        vertical-align: middle;\n",
       "    }\n",
       "\n",
       "    .dataframe tbody tr th {\n",
       "        vertical-align: top;\n",
       "    }\n",
       "\n",
       "    .dataframe thead th {\n",
       "        text-align: right;\n",
       "    }\n",
       "</style>\n",
       "<table border=\"1\" class=\"dataframe\">\n",
       "  <thead>\n",
       "    <tr style=\"text-align: right;\">\n",
       "      <th></th>\n",
       "      <th>name</th>\n",
       "      <th>rank</th>\n",
       "      <th>rank_point</th>\n",
       "      <th>height</th>\n",
       "      <th>age</th>\n",
       "      <th>hand</th>\n",
       "    </tr>\n",
       "  </thead>\n",
       "  <tbody>\n",
       "    <tr>\n",
       "      <th>0</th>\n",
       "      <td>N.Djokovic</td>\n",
       "      <td>1</td>\n",
       "      <td>12030</td>\n",
       "      <td>188</td>\n",
       "      <td>33.723</td>\n",
       "      <td>Right-Handed</td>\n",
       "    </tr>\n",
       "    <tr>\n",
       "      <th>1</th>\n",
       "      <td>J.Chardy</td>\n",
       "      <td>66</td>\n",
       "      <td>950</td>\n",
       "      <td>188</td>\n",
       "      <td>33.995</td>\n",
       "      <td>Right-Handed</td>\n",
       "    </tr>\n",
       "    <tr>\n",
       "      <th>2</th>\n",
       "      <td>F.Tiafoe</td>\n",
       "      <td>62</td>\n",
       "      <td>1005</td>\n",
       "      <td>188</td>\n",
       "      <td>23.049</td>\n",
       "      <td>Right-Handed</td>\n",
       "    </tr>\n",
       "    <tr>\n",
       "      <th>3</th>\n",
       "      <td>S.Travaglia</td>\n",
       "      <td>71</td>\n",
       "      <td>894</td>\n",
       "      <td>185</td>\n",
       "      <td>29.118</td>\n",
       "      <td>Right-Handed</td>\n",
       "    </tr>\n",
       "    <tr>\n",
       "      <th>4</th>\n",
       "      <td>R.Opelka</td>\n",
       "      <td>40</td>\n",
       "      <td>1402</td>\n",
       "      <td>211</td>\n",
       "      <td>23.447</td>\n",
       "      <td>Right-Handed</td>\n",
       "    </tr>\n",
       "    <tr>\n",
       "      <th>...</th>\n",
       "      <td>...</td>\n",
       "      <td>...</td>\n",
       "      <td>...</td>\n",
       "      <td>...</td>\n",
       "      <td>...</td>\n",
       "      <td>...</td>\n",
       "    </tr>\n",
       "    <tr>\n",
       "      <th>123</th>\n",
       "      <td>R.Safiullin</td>\n",
       "      <td>182</td>\n",
       "      <td>357</td>\n",
       "      <td>185</td>\n",
       "      <td>23.504</td>\n",
       "      <td>Right-Handed</td>\n",
       "    </tr>\n",
       "    <tr>\n",
       "      <th>124</th>\n",
       "      <td>M.Mmoh</td>\n",
       "      <td>177</td>\n",
       "      <td>368</td>\n",
       "      <td>188</td>\n",
       "      <td>23.077</td>\n",
       "      <td>Right-Handed</td>\n",
       "    </tr>\n",
       "    <tr>\n",
       "      <th>125</th>\n",
       "      <td>V.Troicki</td>\n",
       "      <td>202</td>\n",
       "      <td>326</td>\n",
       "      <td>193</td>\n",
       "      <td>35.000</td>\n",
       "      <td>Right-Handed</td>\n",
       "    </tr>\n",
       "    <tr>\n",
       "      <th>126</th>\n",
       "      <td>L.Djere</td>\n",
       "      <td>56</td>\n",
       "      <td>1068</td>\n",
       "      <td>188</td>\n",
       "      <td>25.688</td>\n",
       "      <td>Right-Handed</td>\n",
       "    </tr>\n",
       "    <tr>\n",
       "      <th>127</th>\n",
       "      <td>R.Nadal</td>\n",
       "      <td>2</td>\n",
       "      <td>9850</td>\n",
       "      <td>185</td>\n",
       "      <td>34.690</td>\n",
       "      <td>Left-Handed</td>\n",
       "    </tr>\n",
       "  </tbody>\n",
       "</table>\n",
       "<p>128 rows × 6 columns</p>\n",
       "</div>"
      ],
      "text/plain": [
       "            name  rank  rank_point  height     age          hand\n",
       "0     N.Djokovic     1       12030     188  33.723  Right-Handed\n",
       "1       J.Chardy    66         950     188  33.995  Right-Handed\n",
       "2       F.Tiafoe    62        1005     188  23.049  Right-Handed\n",
       "3    S.Travaglia    71         894     185  29.118  Right-Handed\n",
       "4       R.Opelka    40        1402     211  23.447  Right-Handed\n",
       "..           ...   ...         ...     ...     ...           ...\n",
       "123  R.Safiullin   182         357     185  23.504  Right-Handed\n",
       "124       M.Mmoh   177         368     188  23.077  Right-Handed\n",
       "125    V.Troicki   202         326     193  35.000  Right-Handed\n",
       "126      L.Djere    56        1068     188  25.688  Right-Handed\n",
       "127      R.Nadal     2        9850     185  34.690   Left-Handed\n",
       "\n",
       "[128 rows x 6 columns]"
      ]
     },
     "execution_count": 82,
     "metadata": {},
     "output_type": "execute_result"
    }
   ],
   "source": [
    "AO_draw"
   ]
  },
  {
   "cell_type": "code",
   "execution_count": 83,
   "metadata": {
    "ExecuteTime": {
     "end_time": "2021-02-26T08:11:40.523601Z",
     "start_time": "2021-02-26T08:11:40.518601Z"
    }
   },
   "outputs": [],
   "source": [
    "all_list = list(itertools.combinations(range(128),2))"
   ]
  },
  {
   "cell_type": "code",
   "execution_count": 84,
   "metadata": {
    "ExecuteTime": {
     "end_time": "2021-02-26T08:11:44.418175Z",
     "start_time": "2021-02-26T08:11:41.228701Z"
    }
   },
   "outputs": [],
   "source": [
    "predict_prob = []\n",
    "base = [0,1,0,0,1]\n",
    "total_base = []\n",
    "for p, q in all_list:\n",
    "    a = AO_draw.iloc[p]\n",
    "    b = AO_draw.iloc[q]\n",
    "    op_rank = b[\"rank\"]\n",
    "    rank = a[\"rank\"]\n",
    "    ht_dff = a[\"height\"]-b[\"height\"]\n",
    "    point_dff = a[\"rank_point\"]-b[\"rank_point\"]\n",
    "    age_dff = a[\"age\"]-b[\"age\"]\n",
    "    if a[\"hand\"]==\"Right-Handed\":\n",
    "        hand_a = [0,1,0]\n",
    "    else:\n",
    "        hand_a = [1,0,0]\n",
    "    if b[\"hand\"]==\"Right-Handed\":\n",
    "        hand_b = [0,1,0]\n",
    "    else:\n",
    "        hand_b = [1,0,0]\n",
    "    p_q_match = [op_rank,rank,ht_dff,point_dff,age_dff]+hand_a+hand_b+base\n",
    "    total_base.append(p_q_match)\n",
    "    # 여기에서 model.ipynb와 같은 input cell을 만들어낸다.\n",
    "\n",
    "# 이후 모델에 적용한 뒤에 append하여 probability추가하고 나머지 p,q제외하고 drop"
   ]
  },
  {
   "cell_type": "code",
   "execution_count": 122,
   "metadata": {
    "ExecuteTime": {
     "end_time": "2021-02-26T09:27:41.461295Z",
     "start_time": "2021-02-26T09:27:41.419440Z"
    }
   },
   "outputs": [],
   "source": [
    "match_input = pd.DataFrame(total_base, columns=['opponent_rank', 'rank', 'ht_dff', 'rank_points_dff', 'age_dff',\n",
    "       'hand_L', 'hand_R', 'hand_U', 'opponent_hand_L', 'opponent_hand_R',\n",
    "       'opponent_hand_U', 'best_of_3', 'best_of_5', 'surface_Clay',\n",
    "       'surface_Grass', 'surface_Hard'])"
   ]
  },
  {
   "cell_type": "code",
   "execution_count": 168,
   "metadata": {
    "ExecuteTime": {
     "end_time": "2021-02-26T09:46:32.773341Z",
     "start_time": "2021-02-26T09:46:32.767356Z"
    }
   },
   "outputs": [],
   "source": [
    "def model_apply(match_input, model):\n",
    "    \n",
    "    prediction = model(match_input)\n",
    "    prediction_df = pd.DataFrame(prediction, columns = [\"win\",\"lose\"])\n",
    "    print(prediction_df)\n",
    "    r_value = pd.concat([match_input[['rank', 'opponent_rank']],prediction_df[['lose']]], axis=1)\n",
    "    r_value = r_value.rename(columns={\"lose\":\"win\"})\n",
    "    return r_value"
   ]
  },
  {
   "cell_type": "code",
   "execution_count": 170,
   "metadata": {
    "ExecuteTime": {
     "end_time": "2021-02-26T09:46:48.618997Z",
     "start_time": "2021-02-26T09:46:48.595048Z"
    }
   },
   "outputs": [
    {
     "name": "stdout",
     "output_type": "stream",
     "text": [
      "               win      lose\n",
      "0     2.961300e-02  0.970387\n",
      "1     3.880377e-02  0.961196\n",
      "2     3.089742e-02  0.969103\n",
      "3     5.680574e-02  0.943194\n",
      "4     5.042298e-23  1.000000\n",
      "...            ...       ...\n",
      "8123  7.651554e-01  0.234845\n",
      "8124  9.588619e-01  0.041138\n",
      "8125  8.589229e-01  0.141077\n",
      "8126  9.775559e-01  0.022444\n",
      "8127  8.773593e-01  0.122641\n",
      "\n",
      "[8128 rows x 2 columns]\n"
     ]
    }
   ],
   "source": [
    "final_input = model_apply(match_input,gnb.predict_proba)"
   ]
  },
  {
   "cell_type": "code",
   "execution_count": 379,
   "metadata": {
    "ExecuteTime": {
     "end_time": "2021-02-26T10:21:55.001879Z",
     "start_time": "2021-02-26T10:21:54.989937Z"
    }
   },
   "outputs": [
    {
     "data": {
      "text/html": [
       "<div>\n",
       "<style scoped>\n",
       "    .dataframe tbody tr th:only-of-type {\n",
       "        vertical-align: middle;\n",
       "    }\n",
       "\n",
       "    .dataframe tbody tr th {\n",
       "        vertical-align: top;\n",
       "    }\n",
       "\n",
       "    .dataframe thead th {\n",
       "        text-align: right;\n",
       "    }\n",
       "</style>\n",
       "<table border=\"1\" class=\"dataframe\">\n",
       "  <thead>\n",
       "    <tr style=\"text-align: right;\">\n",
       "      <th></th>\n",
       "      <th>rank</th>\n",
       "      <th>opponent_rank</th>\n",
       "      <th>win</th>\n",
       "    </tr>\n",
       "  </thead>\n",
       "  <tbody>\n",
       "    <tr>\n",
       "      <th>126</th>\n",
       "      <td>1</td>\n",
       "      <td>2</td>\n",
       "      <td>0.780088</td>\n",
       "    </tr>\n",
       "  </tbody>\n",
       "</table>\n",
       "</div>"
      ],
      "text/plain": [
       "     rank  opponent_rank       win\n",
       "126     1              2  0.780088"
      ]
     },
     "execution_count": 379,
     "metadata": {},
     "output_type": "execute_result"
    }
   ],
   "source": [
    "final_input.loc[(final_input['rank']==1)&(final_input['opponent_rank']==2)]"
   ]
  },
  {
   "cell_type": "code",
   "execution_count": 451,
   "metadata": {
    "ExecuteTime": {
     "end_time": "2021-02-26T10:25:41.350122Z",
     "start_time": "2021-02-26T10:25:41.335123Z"
    }
   },
   "outputs": [],
   "source": [
    "class tournament(object):\n",
    "    \n",
    "    def fit(self, draw, m_input):\n",
    "        rank_list = draw[[\"rank\"]]\n",
    "        self.how_many_total_wins=rank_list.copy()\n",
    "        self.how_many_total_wins.insert(1,\"win\",0)\n",
    "        self.match_list = m_input.copy()\n",
    "        self.match_counts = []\n",
    "        self.len = len(rank_list)\n",
    "        self.rank_list = draw[\"rank\"].copy()\n",
    "        \n",
    "        for i in range(len(rank_list)):\n",
    "            self.len = int(self.len/2)\n",
    "            self.match_counts.append(self.len)\n",
    "            if self.len <=1:\n",
    "                break\n",
    "\n",
    "        \n",
    "        \n",
    "    def match_win(self, rank_a, rank_b):\n",
    "\n",
    "        prob = self.match_list.loc[(self.match_list['rank']==rank_a)&(self.match_list['opponent_rank']==rank_b)]['win']\n",
    "        prob = prob.tolist()[0]\n",
    "        rand_num = uniform(0,1)\n",
    "\n",
    "        if prob > rand_num:\n",
    "            return rank_a\n",
    "        else:\n",
    "            return rank_b\n",
    "        \n",
    "    def tournament_one_round(self, matches, rank_list_1):\n",
    "        \n",
    "        winners = []\n",
    "        \n",
    "        for i in range(matches):\n",
    "            a = 2*i\n",
    "            b = 2*i + 1\n",
    "            rank_a = rank_list_1[a]\n",
    "            rank_b = rank_list_1[b]\n",
    "            winner = self.match_win(rank_a, rank_b)\n",
    "            winners.append(winner)\n",
    "        return winners\n",
    "        \n",
    "    def tournament_one_cycle(self):\n",
    "\n",
    "        rank_list_2 = self.rank_list\n",
    "        for matches in self.match_counts:\n",
    "            rank_list_2 = self.tournament_one_round(matches,rank_list_2)\n",
    "        self.how_many_total_wins.loc[self.how_many_total_wins['rank']==rank_list_2[0],'win']+=1\n",
    "        \n",
    "    def cycles(self, num=1):\n",
    "        for i in range(num):\n",
    "\n",
    "            self.tournament_one_cycle()\n",
    "        return(self.how_many_total_wins)"
   ]
  },
  {
   "cell_type": "code",
   "execution_count": 488,
   "metadata": {
    "ExecuteTime": {
     "end_time": "2021-02-26T10:47:09.366174Z",
     "start_time": "2021-02-26T10:28:39.254556Z"
    },
    "scrolled": false
   },
   "outputs": [],
   "source": [
    "to = tournament()\n",
    "to.fit(AO_draw, final_input)\n",
    "result = to.cycles(10000).sort_values(by=['win'], axis=0, ascending=False)"
   ]
  },
  {
   "cell_type": "code",
   "execution_count": 492,
   "metadata": {
    "ExecuteTime": {
     "end_time": "2021-02-26T10:53:57.433443Z",
     "start_time": "2021-02-26T10:53:57.337692Z"
    }
   },
   "outputs": [],
   "source": [
    "result.to_csv(\"result_NBG.csv\",index=False)"
   ]
  }
 ],
 "metadata": {
  "kernelspec": {
   "display_name": "Python 3",
   "language": "python",
   "name": "python3"
  },
  "language_info": {
   "codemirror_mode": {
    "name": "ipython",
    "version": 3
   },
   "file_extension": ".py",
   "mimetype": "text/x-python",
   "name": "python",
   "nbconvert_exporter": "python",
   "pygments_lexer": "ipython3",
   "version": "3.8.3"
  },
  "toc": {
   "base_numbering": 1,
   "nav_menu": {},
   "number_sections": true,
   "sideBar": true,
   "skip_h1_title": false,
   "title_cell": "Table of Contents",
   "title_sidebar": "Contents",
   "toc_cell": false,
   "toc_position": {},
   "toc_section_display": true,
   "toc_window_display": false
  }
 },
 "nbformat": 4,
 "nbformat_minor": 4
}
