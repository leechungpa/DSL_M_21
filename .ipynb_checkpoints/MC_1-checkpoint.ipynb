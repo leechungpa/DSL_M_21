{
 "cells": [
  {
   "cell_type": "code",
   "execution_count": 1,
   "metadata": {
    "ExecuteTime": {
     "end_time": "2021-02-26T09:33:33.528207Z",
     "start_time": "2021-02-26T09:33:33.522224Z"
    },
    "collapsed": true
   },
   "outputs": [],
   "source": [
    "from random import *\n",
    "import pandas as pd\n",
    "import itertools\n",
    "import numpy as np\n",
    "import os\n",
    "from tqdm import tqdm"
   ]
  },
  {
   "cell_type": "code",
   "execution_count": 2,
   "metadata": {
    "ExecuteTime": {
     "end_time": "2021-02-26T09:36:23.149734Z",
     "start_time": "2021-02-26T09:36:23.143750Z"
    }
   },
   "outputs": [
    {
     "data": {
      "text/plain": [
       "['.ipynb_checkpoints',\n",
       " '2001-2018 (1).csv',\n",
       " '2019.csv',\n",
       " '2020.csv',\n",
       " 'AO_draw.csv',\n",
       " 'MC.ipynb',\n",
       " 'model.ipynb']"
      ]
     },
     "execution_count": 2,
     "metadata": {},
     "output_type": "execute_result"
    }
   ],
   "source": [
    "file_list = os.listdir()\n",
    "file_list"
   ]
  },
  {
   "cell_type": "code",
   "execution_count": 3,
   "metadata": {
    "ExecuteTime": {
     "end_time": "2021-02-26T09:36:32.609696Z",
     "start_time": "2021-02-26T09:36:32.430918Z"
    },
    "collapsed": true
   },
   "outputs": [],
   "source": [
    "train_data = pd.read_csv(file_list[1], index_col=0)\n",
    "test_data19 = pd.read_csv(file_list[2], index_col=0)\n",
    "test_data20 = pd.read_csv(file_list[3], index_col=0)"
   ]
  },
  {
   "cell_type": "markdown",
   "metadata": {},
   "source": [
    "## 전처리 및 세팅"
   ]
  },
  {
   "cell_type": "code",
   "execution_count": 4,
   "metadata": {
    "ExecuteTime": {
     "end_time": "2021-02-26T09:36:45.342449Z",
     "start_time": "2021-02-26T09:36:45.331462Z"
    },
    "collapsed": true
   },
   "outputs": [],
   "source": [
    "def train_test_split(data):\n",
    "    data = data.copy()\n",
    "    data.drop(['tourney_date', 'winner_id', 'loser_id'], axis=1, inplace=True)\n",
    "    np.random.seed(202101)\n",
    "    random_number = np.random.rand(len(data), ) < 0.5\n",
    "    data_win = data.copy()[random_number]\n",
    "    data_lose = data.copy()[~random_number]\n",
    "    data_win['y'] = 1\n",
    "    data_lose['y'] = 0\n",
    "    trim_data = data_lose.rename(columns={'winner_hand': 'loser_hand', 'loser_hand': 'winner_hand',\n",
    "                                          'winner_ht': 'loser_ht', 'loser_ht': 'winner_ht',\n",
    "                                          'winner_age': 'loser_age', 'loser_age': 'winner_age',\n",
    "                                          'winner_rank': 'loser_rank', 'loser_rank': 'winner_rank',\n",
    "                                          'winner_rank_points': 'loser_rank_points', 'loser_rank_points': 'winner_rank_points',\n",
    "                                         })\n",
    "    trim_data = pd.concat([trim_data, data_win])\n",
    "    # more trimming\n",
    "    trim_data['ht_dff'] = trim_data['winner_ht'] - trim_data['loser_ht']\n",
    "    trim_data['rank_points_dff'] = trim_data['winner_rank_points'] - trim_data['loser_rank_points']\n",
    "    trim_data['age_dff'] = trim_data['winner_age'] - trim_data['loser_age']\n",
    "    \n",
    "    trim_data.drop(['winner_ht', 'loser_ht', 'winner_rank_points', 'loser_rank_points', 'winner_age', 'loser_age'], axis=1, inplace=True)\n",
    "    \n",
    "    trim_data.rename(columns={'winner_hand': 'hand',\n",
    "                              'loser_hand': 'opponent_hand',\n",
    "                              'winner_rank': 'rank',\n",
    "                              'loser_rank': 'opponent_rank'}, inplace=True)\n",
    "    # encoding\n",
    "    trim_data.loc[(trim_data.surface == 'Carpet'),'surface'] = np.nan\n",
    "    final_data = pd.get_dummies(trim_data, columns=[\"hand\",'opponent_hand', 'best_of', 'surface'])\n",
    "    final_data.dropna(inplace=True)\n",
    "    # split\n",
    "    print(final_data.shape)\n",
    "    X = final_data.drop([\"Quarter\", 'y', 'Month'], axis=1)\n",
    "    print(X.columns)\n",
    "    y = final_data['y']\n",
    "    return X, y"
   ]
  },
  {
   "cell_type": "code",
   "execution_count": 5,
   "metadata": {
    "ExecuteTime": {
     "end_time": "2021-02-26T09:36:47.389971Z",
     "start_time": "2021-02-26T09:36:47.118661Z"
    }
   },
   "outputs": [
    {
     "name": "stdout",
     "output_type": "stream",
     "text": [
      "(46943, 19)\n",
      "Index(['opponent_rank', 'rank', 'ht_dff', 'rank_points_dff', 'age_dff',\n",
      "       'hand_L', 'hand_R', 'hand_U', 'opponent_hand_L', 'opponent_hand_R',\n",
      "       'opponent_hand_U', 'best_of_3', 'best_of_5', 'surface_Clay',\n",
      "       'surface_Grass', 'surface_Hard'],\n",
      "      dtype='object')\n",
      "(841, 19)\n",
      "Index(['opponent_rank', 'rank', 'ht_dff', 'rank_points_dff', 'age_dff',\n",
      "       'hand_L', 'hand_R', 'hand_U', 'opponent_hand_L', 'opponent_hand_R',\n",
      "       'opponent_hand_U', 'best_of_3', 'best_of_5', 'surface_Clay',\n",
      "       'surface_Grass', 'surface_Hard'],\n",
      "      dtype='object')\n",
      "(272, 19)\n",
      "Index(['opponent_rank', 'rank', 'ht_dff', 'rank_points_dff', 'age_dff',\n",
      "       'hand_L', 'hand_R', 'hand_U', 'opponent_hand_L', 'opponent_hand_R',\n",
      "       'opponent_hand_U', 'best_of_3', 'best_of_5', 'surface_Clay',\n",
      "       'surface_Grass', 'surface_Hard'],\n",
      "      dtype='object')\n"
     ]
    }
   ],
   "source": [
    "X_train, y_train = train_test_split(train_data)\n",
    "X_test19, y_test19 = train_test_split(test_data19)\n",
    "X_test20, y_test20 = train_test_split(test_data20)"
   ]
  },
  {
   "cell_type": "code",
   "execution_count": 6,
   "metadata": {
    "ExecuteTime": {
     "end_time": "2021-02-26T08:11:37.887669Z",
     "start_time": "2021-02-26T08:11:37.867707Z"
    },
    "collapsed": true
   },
   "outputs": [],
   "source": [
    "AO_draw = pd.read_csv(\"AO_draw.csv\")"
   ]
  },
  {
   "cell_type": "code",
   "execution_count": 7,
   "metadata": {
    "ExecuteTime": {
     "end_time": "2021-02-26T08:11:38.600726Z",
     "start_time": "2021-02-26T08:11:38.574795Z"
    },
    "scrolled": true
   },
   "outputs": [
    {
     "data": {
      "text/html": [
       "<div>\n",
       "<style>\n",
       "    .dataframe thead tr:only-child th {\n",
       "        text-align: right;\n",
       "    }\n",
       "\n",
       "    .dataframe thead th {\n",
       "        text-align: left;\n",
       "    }\n",
       "\n",
       "    .dataframe tbody tr th {\n",
       "        vertical-align: top;\n",
       "    }\n",
       "</style>\n",
       "<table border=\"1\" class=\"dataframe\">\n",
       "  <thead>\n",
       "    <tr style=\"text-align: right;\">\n",
       "      <th></th>\n",
       "      <th>name</th>\n",
       "      <th>rank</th>\n",
       "      <th>rank_point</th>\n",
       "      <th>height</th>\n",
       "      <th>age</th>\n",
       "      <th>hand</th>\n",
       "    </tr>\n",
       "  </thead>\n",
       "  <tbody>\n",
       "    <tr>\n",
       "      <th>0</th>\n",
       "      <td>N.Djokovic</td>\n",
       "      <td>1</td>\n",
       "      <td>12030</td>\n",
       "      <td>188</td>\n",
       "      <td>33.723</td>\n",
       "      <td>Right-Handed</td>\n",
       "    </tr>\n",
       "    <tr>\n",
       "      <th>1</th>\n",
       "      <td>J.Chardy</td>\n",
       "      <td>66</td>\n",
       "      <td>950</td>\n",
       "      <td>188</td>\n",
       "      <td>33.995</td>\n",
       "      <td>Right-Handed</td>\n",
       "    </tr>\n",
       "    <tr>\n",
       "      <th>2</th>\n",
       "      <td>F.Tiafoe</td>\n",
       "      <td>62</td>\n",
       "      <td>1005</td>\n",
       "      <td>188</td>\n",
       "      <td>23.049</td>\n",
       "      <td>Right-Handed</td>\n",
       "    </tr>\n",
       "    <tr>\n",
       "      <th>3</th>\n",
       "      <td>S.Travaglia</td>\n",
       "      <td>71</td>\n",
       "      <td>894</td>\n",
       "      <td>185</td>\n",
       "      <td>29.118</td>\n",
       "      <td>Right-Handed</td>\n",
       "    </tr>\n",
       "    <tr>\n",
       "      <th>4</th>\n",
       "      <td>R.Opelka</td>\n",
       "      <td>40</td>\n",
       "      <td>1402</td>\n",
       "      <td>211</td>\n",
       "      <td>23.447</td>\n",
       "      <td>Right-Handed</td>\n",
       "    </tr>\n",
       "  </tbody>\n",
       "</table>\n",
       "</div>"
      ],
      "text/plain": [
       "          name  rank  rank_point  height     age          hand\n",
       "0   N.Djokovic     1       12030     188  33.723  Right-Handed\n",
       "1     J.Chardy    66         950     188  33.995  Right-Handed\n",
       "2     F.Tiafoe    62        1005     188  23.049  Right-Handed\n",
       "3  S.Travaglia    71         894     185  29.118  Right-Handed\n",
       "4     R.Opelka    40        1402     211  23.447  Right-Handed"
      ]
     },
     "execution_count": 7,
     "metadata": {},
     "output_type": "execute_result"
    }
   ],
   "source": [
    "AO_draw.head()"
   ]
  },
  {
   "cell_type": "code",
   "execution_count": 8,
   "metadata": {
    "ExecuteTime": {
     "end_time": "2021-02-26T08:11:40.523601Z",
     "start_time": "2021-02-26T08:11:40.518601Z"
    },
    "collapsed": true
   },
   "outputs": [],
   "source": [
    "all_list = list(itertools.combinations(range(128),2))"
   ]
  },
  {
   "cell_type": "code",
   "execution_count": 9,
   "metadata": {
    "ExecuteTime": {
     "end_time": "2021-02-26T08:11:44.418175Z",
     "start_time": "2021-02-26T08:11:41.228701Z"
    },
    "collapsed": true
   },
   "outputs": [],
   "source": [
    "predict_prob = []\n",
    "base = [0,1,0,0,1]\n",
    "total_base = []\n",
    "for p, q in all_list:\n",
    "    a = AO_draw.iloc[p]\n",
    "    b = AO_draw.iloc[q]\n",
    "    op_rank = b[\"rank\"]\n",
    "    rank = a[\"rank\"]\n",
    "    ht_dff = a[\"height\"]-b[\"height\"]\n",
    "    point_dff = a[\"rank_point\"]-b[\"rank_point\"]\n",
    "    age_dff = a[\"age\"]-b[\"age\"]\n",
    "    if a[\"hand\"]==\"Right-Handed\":\n",
    "        hand_a = [0,1,0]\n",
    "    else:\n",
    "        hand_a = [1,0,0]\n",
    "    if b[\"hand\"]==\"Right-Handed\":\n",
    "        hand_b = [0,1,0]\n",
    "    else:\n",
    "        hand_b = [1,0,0]\n",
    "    p_q_match = [op_rank,rank,ht_dff,point_dff,age_dff]+hand_a+hand_b+base\n",
    "    total_base.append(p_q_match)\n",
    "    # 여기에서 model.ipynb와 같은 input cell을 만들어낸다.\n",
    "\n",
    "# 이후 모델에 적용한 뒤에 append하여 probability추가하고 나머지 p,q제외하고 drop"
   ]
  },
  {
   "cell_type": "code",
   "execution_count": 10,
   "metadata": {
    "ExecuteTime": {
     "end_time": "2021-02-26T09:27:41.461295Z",
     "start_time": "2021-02-26T09:27:41.419440Z"
    },
    "collapsed": true
   },
   "outputs": [],
   "source": [
    "match_input = pd.DataFrame(total_base, columns=['opponent_rank', 'rank', 'ht_dff', 'rank_points_dff', 'age_dff',\n",
    "       'hand_L', 'hand_R', 'hand_U', 'opponent_hand_L', 'opponent_hand_R',\n",
    "       'opponent_hand_U', 'best_of_3', 'best_of_5', 'surface_Clay',\n",
    "       'surface_Grass', 'surface_Hard'])"
   ]
  },
  {
   "cell_type": "markdown",
   "metadata": {},
   "source": [
    "## 모델링"
   ]
  },
  {
   "cell_type": "markdown",
   "metadata": {},
   "source": [
    "### GNB"
   ]
  },
  {
   "cell_type": "code",
   "execution_count": 11,
   "metadata": {
    "ExecuteTime": {
     "end_time": "2021-02-26T09:37:43.992901Z",
     "start_time": "2021-02-26T09:37:42.132597Z"
    },
    "collapsed": true
   },
   "outputs": [],
   "source": [
    "from sklearn.model_selection import GridSearchCV, cross_val_score\n",
    "from sklearn.metrics import f1_score, classification_report, confusion_matrix\n",
    "from sklearn.naive_bayes import GaussianNB\n",
    "from sklearn.preprocessing import StandardScaler"
   ]
  },
  {
   "cell_type": "code",
   "execution_count": 12,
   "metadata": {
    "ExecuteTime": {
     "end_time": "2021-02-26T09:37:49.673441Z",
     "start_time": "2021-02-26T09:37:49.669449Z"
    }
   },
   "outputs": [],
   "source": [
    "scaler = StandardScaler()"
   ]
  },
  {
   "cell_type": "code",
   "execution_count": 13,
   "metadata": {
    "ExecuteTime": {
     "end_time": "2021-02-26T09:37:56.558035Z",
     "start_time": "2021-02-26T09:37:56.471266Z"
    }
   },
   "outputs": [
    {
     "data": {
      "text/plain": [
       "StandardScaler(copy=True, with_mean=True, with_std=True)"
      ]
     },
     "execution_count": 13,
     "metadata": {},
     "output_type": "execute_result"
    }
   ],
   "source": [
    "scaler.fit(X_train)"
   ]
  },
  {
   "cell_type": "code",
   "execution_count": 14,
   "metadata": {
    "ExecuteTime": {
     "end_time": "2021-02-26T09:38:04.567628Z",
     "start_time": "2021-02-26T09:38:04.531722Z"
    }
   },
   "outputs": [
    {
     "data": {
      "text/plain": [
       "array([[-0.21856992, -0.61715743,  0.83778367, ..., -0.6956252 ,\n",
       "        -0.34900395,  0.93983751],\n",
       "       [-0.3992428 , -0.24499811,  1.35958522, ..., -0.6956252 ,\n",
       "        -0.34900395,  0.93983751],\n",
       "       [-0.42049843, -0.05360188, -0.72762099, ..., -0.6956252 ,\n",
       "        -0.34900395,  0.93983751],\n",
       "       ..., \n",
       "       [-0.66493821, -0.75538804, -1.87558441, ..., -0.6956252 ,\n",
       "        -0.34900395,  0.93983751],\n",
       "       [-0.71807729, -0.75538804, -1.04070192, ..., -0.6956252 ,\n",
       "        -0.34900395,  0.93983751],\n",
       "       [-0.76058856, -0.71285555,  1.04650429, ..., -0.6956252 ,\n",
       "        -0.34900395,  0.93983751]])"
      ]
     },
     "execution_count": 14,
     "metadata": {},
     "output_type": "execute_result"
    }
   ],
   "source": [
    "scaler.transform(X_train)"
   ]
  },
  {
   "cell_type": "code",
   "execution_count": 15,
   "metadata": {
    "ExecuteTime": {
     "end_time": "2021-02-26T09:38:10.842880Z",
     "start_time": "2021-02-26T09:38:10.757106Z"
    }
   },
   "outputs": [
    {
     "name": "stdout",
     "output_type": "stream",
     "text": [
      "Number of mislabeled points out of a total 841 points : 308\n"
     ]
    }
   ],
   "source": [
    "gnb = GaussianNB()\n",
    "gnb.fit(X_train, y_train)\n",
    "y_pred19 = gnb.predict(X_test19)\n",
    "print(\"Number of mislabeled points out of a total %d points : %d\"\n",
    "      % (X_test19.shape[0], (y_test19 != y_pred19).sum()))"
   ]
  },
  {
   "cell_type": "markdown",
   "metadata": {},
   "source": [
    "### 1-2 로지스틱"
   ]
  },
  {
   "cell_type": "code",
   "execution_count": 16,
   "metadata": {
    "collapsed": true
   },
   "outputs": [],
   "source": [
    "from sklearn.linear_model import LogisticRegression"
   ]
  },
  {
   "cell_type": "code",
   "execution_count": 17,
   "metadata": {},
   "outputs": [
    {
     "name": "stdout",
     "output_type": "stream",
     "text": [
      "Number of mislabeled points out of a total 841 points : 302\n"
     ]
    }
   ],
   "source": [
    "LR = LogisticRegression(random_state=202101)\n",
    "LR.fit(X_train, y_train)\n",
    "y_pred19 = LR.predict(X_test19)\n",
    "print(\"Number of mislabeled points out of a total %d points : %d\"\n",
    "      % (X_test19.shape[0], (y_test19 != y_pred19).sum()))"
   ]
  },
  {
   "cell_type": "markdown",
   "metadata": {},
   "source": [
    "## 추가 전처리"
   ]
  },
  {
   "cell_type": "code",
   "execution_count": 18,
   "metadata": {
    "ExecuteTime": {
     "end_time": "2021-02-26T09:46:32.773341Z",
     "start_time": "2021-02-26T09:46:32.767356Z"
    },
    "collapsed": true
   },
   "outputs": [],
   "source": [
    "def model_apply(match_input, model):\n",
    "    \n",
    "    prediction = model(match_input)\n",
    "    prediction_df = pd.DataFrame(prediction, columns = [\"win\",\"lose\"])\n",
    "    r_value = pd.concat([match_input[['rank', 'opponent_rank']],prediction_df[['lose']]], axis=1)\n",
    "    r_value = r_value.rename(columns={\"lose\":\"win\"})\n",
    "    return r_value"
   ]
  },
  {
   "cell_type": "code",
   "execution_count": 19,
   "metadata": {
    "ExecuteTime": {
     "end_time": "2021-02-26T09:46:48.618997Z",
     "start_time": "2021-02-26T09:46:48.595048Z"
    }
   },
   "outputs": [],
   "source": [
    "final_input_gnb= model_apply(match_input,gnb.predict_proba)"
   ]
  },
  {
   "cell_type": "code",
   "execution_count": 20,
   "metadata": {},
   "outputs": [],
   "source": [
    "final_input_log = model_apply(match_input,LR.predict_proba)"
   ]
  },
  {
   "cell_type": "code",
   "execution_count": 21,
   "metadata": {
    "ExecuteTime": {
     "end_time": "2021-02-26T10:25:41.350122Z",
     "start_time": "2021-02-26T10:25:41.335123Z"
    }
   },
   "outputs": [],
   "source": [
    "class tournament(object):\n",
    "    \n",
    "    def fit(self, draw, m_input):\n",
    "        rank_list = draw[[\"rank\"]]\n",
    "        self.how_many_total_wins=rank_list.copy()\n",
    "        self.how_many_total_wins.insert(1,\"win\",0)\n",
    "        self.match_list = m_input.copy()\n",
    "        self.match_counts = []\n",
    "        self.len = len(rank_list)\n",
    "        self.rank_list = draw[\"rank\"].copy()\n",
    "        \n",
    "        for i in range(len(rank_list)):\n",
    "            self.len = int(self.len/2)\n",
    "            self.match_counts.append(self.len)\n",
    "            if self.len <=1:\n",
    "                break\n",
    "\n",
    "        \n",
    "        \n",
    "    def match_win(self, rank_a, rank_b):\n",
    "\n",
    "        prob = self.match_list.loc[(self.match_list['rank']==rank_a)&(self.match_list['opponent_rank']==rank_b)]['win']\n",
    "        prob = prob.tolist()[0]\n",
    "        rand_num = uniform(0,1)\n",
    "\n",
    "        if prob > rand_num:\n",
    "            return rank_a\n",
    "        else:\n",
    "            return rank_b\n",
    "        \n",
    "    def tournament_one_round(self, matches, rank_list_1):\n",
    "        \n",
    "        winners = []\n",
    "        \n",
    "        for i in range(matches):\n",
    "            a = 2*i\n",
    "            b = 2*i + 1\n",
    "            rank_a = rank_list_1[a]\n",
    "            rank_b = rank_list_1[b]\n",
    "            winner = self.match_win(rank_a, rank_b)\n",
    "            winners.append(winner)\n",
    "        return winners\n",
    "        \n",
    "    def tournament_one_cycle(self):\n",
    "\n",
    "        rank_list_2 = self.rank_list\n",
    "        for matches in self.match_counts:\n",
    "            rank_list_2 = self.tournament_one_round(matches,rank_list_2)\n",
    "        self.how_many_total_wins.loc[self.how_many_total_wins['rank']==rank_list_2[0],'win']+=1\n",
    "        \n",
    "    def cycles(self, num=1):\n",
    "#         num = int(input(\"cycles? \\n\"))\n",
    "        self.cycle = num\n",
    "        for i in tqdm(range(num)):\n",
    "\n",
    "            self.tournament_one_cycle()\n",
    "        return(self.how_many_total_wins)"
   ]
  },
  {
   "cell_type": "code",
   "execution_count": 22,
   "metadata": {
    "collapsed": true
   },
   "outputs": [],
   "source": [
    "def file_name(model,num,file_type):\n",
    "    result_name = \"result_\"+model+\"_\"+str(num)\n",
    "    result_name_count = 0\n",
    "    for file_name in file_list:\n",
    "        if result_name in file_name:\n",
    "            result_name_count += 1\n",
    "    result_name_count += 1\n",
    "    \n",
    "    final_name = result_name +\"_(\"+str(result_name_count)+\").\"+file_type\n",
    "    return final_name"
   ]
  },
  {
   "cell_type": "code",
   "execution_count": null,
   "metadata": {
    "ExecuteTime": {
     "end_time": "2021-02-26T10:47:09.366174Z",
     "start_time": "2021-02-26T10:28:39.254556Z"
    },
    "scrolled": false
   },
   "outputs": [
    {
     "name": "stderr",
     "output_type": "stream",
     "text": [
      " 92%|██████████████████████████████████████████████████████████████████████▌      | 9165/10000 [18:45<01:43,  8.09it/s]"
     ]
    }
   ],
   "source": [
    "to_gnb = tournament()\n",
    "to_gnb.fit(AO_draw, final_input_gnb)\n",
    "result_gnb = to_gnb.cycles(10000).sort_values(by=['win'], axis=0, ascending=False)\n",
    "file_name_gnb = file_name(\"gnb\",to_gnb.cycle,\"csv\")\n",
    "result_gnb.to_csv(file_name_gnb,index=False)"
   ]
  },
  {
   "cell_type": "code",
   "execution_count": null,
   "metadata": {},
   "outputs": [],
   "source": [
    "to_log = tournament()\n",
    "to_log.fit(AO_draw, final_input_log)\n",
    "result_log = to_log.cycles(10000).sort_values(by=['win'], axis=0, ascending=False)\n",
    "file_name_log = file_name(\"log\",to_gnb.cycle,\"csv\")\n",
    "result_log.to_csv(file_name_log,index=False)"
   ]
  }
 ],
 "metadata": {
  "kernelspec": {
   "display_name": "Python 3",
   "language": "python",
   "name": "python3"
  },
  "language_info": {
   "codemirror_mode": {
    "name": "ipython",
    "version": 3
   },
   "file_extension": ".py",
   "mimetype": "text/x-python",
   "name": "python",
   "nbconvert_exporter": "python",
   "pygments_lexer": "ipython3",
   "version": "3.8.3"
  },
  "toc": {
   "base_numbering": 1,
   "nav_menu": {},
   "number_sections": true,
   "sideBar": true,
   "skip_h1_title": false,
   "title_cell": "Table of Contents",
   "title_sidebar": "Contents",
   "toc_cell": false,
   "toc_position": {},
   "toc_section_display": true,
   "toc_window_display": false
  }
 },
 "nbformat": 4,
 "nbformat_minor": 4
}
