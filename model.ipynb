{
 "cells": [
  {
   "cell_type": "code",
   "execution_count": 1,
   "metadata": {},
   "outputs": [],
   "source": [
    "import os\n",
    "import pandas as pd\n",
    "import numpy as np"
   ]
  },
  {
   "cell_type": "markdown",
   "metadata": {},
   "source": [
    "## 함수"
   ]
  },
  {
   "cell_type": "code",
   "execution_count": 2,
   "metadata": {
    "scrolled": true
   },
   "outputs": [],
   "source": [
    "def train_test_split(data):\n",
    "    data = data.copy()\n",
    "    data.drop(['tourney_date', 'winner_id', 'loser_id'], axis=1, inplace=True)\n",
    "    np.random.seed(2021)\n",
    "    random_number = np.random.rand(len(data), ) < 0.5\n",
    "    data_win = data.copy()#[random_number]\n",
    "    data_lose = data.copy()#[~random_number]\n",
    "    data_win['y'] = 1\n",
    "    data_lose['y'] = 0\n",
    "    trim_data = data_lose.rename(columns={'winner_hand': 'loser_hand', 'loser_hand': 'winner_hand',\n",
    "                                          'winner_ht': 'loser_ht', 'loser_ht': 'winner_ht',\n",
    "                                          'winner_age': 'loser_age', 'loser_age': 'winner_age',\n",
    "                                          'winner_rank': 'loser_rank', 'loser_rank': 'winner_rank',\n",
    "                                          'winner_rank_points': 'loser_rank_points', 'loser_rank_points': 'winner_rank_points',\n",
    "                                         })\n",
    "    trim_data = pd.concat([trim_data, data_win])\n",
    "    # more trimming\n",
    "    trim_data['ht_dff'] = trim_data['winner_ht'] - trim_data['loser_ht']\n",
    "    trim_data['rank_points_dff'] = trim_data['winner_rank_points'] - trim_data['loser_rank_points']\n",
    "    trim_data['age_dff'] = trim_data['winner_age'] - trim_data['loser_age']\n",
    "    \n",
    "    trim_data.drop(['winner_ht', 'loser_ht', 'winner_rank_points', 'loser_rank_points', 'winner_age', 'loser_age'], axis=1, inplace=True)\n",
    "    \n",
    "    trim_data.rename(columns={'winner_hand': 'hand',\n",
    "                              'loser_hand': 'opponent_hand',\n",
    "                              'winner_rank': 'rank',\n",
    "                              'loser_rank': 'opponent_rank'}, inplace=True)\n",
    "    # encoding\n",
    "    trim_data.loc[(trim_data.surface == 'Carpet'),'surface'] = np.nan\n",
    "    final_data = pd.get_dummies(trim_data, columns=[\"hand\",'opponent_hand', 'best_of', 'surface'])\n",
    "    final_data.dropna(inplace=True)\n",
    "    # split\n",
    "    print(final_data.shape)\n",
    "    X = final_data.drop([\"Quarter\", 'y', 'Month'], axis=1)\n",
    "    print(X.columns)\n",
    "    y = final_data['y']\n",
    "    return X, y"
   ]
  },
  {
   "cell_type": "markdown",
   "metadata": {},
   "source": [
    "# 데이터 전처리"
   ]
  },
  {
   "cell_type": "code",
   "execution_count": 3,
   "metadata": {},
   "outputs": [
    {
     "data": {
      "text/plain": [
       "['.git',\n",
       " '.ipynb_checkpoints',\n",
       " '2001-2018 (1).csv',\n",
       " '2019.csv',\n",
       " '2020.csv',\n",
       " 'ATP EDA.ipynb',\n",
       " 'catboost_info',\n",
       " 'model.ipynb',\n",
       " 'README.md']"
      ]
     },
     "execution_count": 3,
     "metadata": {},
     "output_type": "execute_result"
    }
   ],
   "source": [
    "file_list = os.listdir()\n",
    "file_list"
   ]
  },
  {
   "cell_type": "code",
   "execution_count": 4,
   "metadata": {},
   "outputs": [],
   "source": [
    "train_data = pd.read_csv(file_list[2], index_col=0)\n",
    "test_data19 = pd.read_csv(file_list[3], index_col=0)\n",
    "test_data20 = pd.read_csv(file_list[4], index_col=0)"
   ]
  },
  {
   "cell_type": "code",
   "execution_count": 5,
   "metadata": {},
   "outputs": [
    {
     "data": {
      "text/plain": [
       "surface                198\n",
       "tourney_date             0\n",
       "winner_id                0\n",
       "winner_hand             17\n",
       "winner_ht             4036\n",
       "winner_age               6\n",
       "loser_id                 0\n",
       "loser_hand              43\n",
       "loser_ht              6647\n",
       "loser_age               17\n",
       "best_of                  0\n",
       "winner_rank            459\n",
       "winner_rank_points     459\n",
       "loser_rank            1174\n",
       "loser_rank_points     1174\n",
       "Month                    0\n",
       "Quarter                  0\n",
       "dtype: int64"
      ]
     },
     "execution_count": 5,
     "metadata": {},
     "output_type": "execute_result"
    }
   ],
   "source": [
    "train_data.isna().sum()"
   ]
  },
  {
   "cell_type": "code",
   "execution_count": 6,
   "metadata": {},
   "outputs": [
    {
     "name": "stdout",
     "output_type": "stream",
     "text": [
      "(93886, 19)\n",
      "Index(['opponent_rank', 'rank', 'ht_dff', 'rank_points_dff', 'age_dff',\n",
      "       'hand_L', 'hand_R', 'hand_U', 'opponent_hand_L', 'opponent_hand_R',\n",
      "       'opponent_hand_U', 'best_of_3', 'best_of_5', 'surface_Clay',\n",
      "       'surface_Grass', 'surface_Hard'],\n",
      "      dtype='object')\n",
      "(1682, 19)\n",
      "Index(['opponent_rank', 'rank', 'ht_dff', 'rank_points_dff', 'age_dff',\n",
      "       'hand_L', 'hand_R', 'hand_U', 'opponent_hand_L', 'opponent_hand_R',\n",
      "       'opponent_hand_U', 'best_of_3', 'best_of_5', 'surface_Clay',\n",
      "       'surface_Grass', 'surface_Hard'],\n",
      "      dtype='object')\n",
      "(544, 19)\n",
      "Index(['opponent_rank', 'rank', 'ht_dff', 'rank_points_dff', 'age_dff',\n",
      "       'hand_L', 'hand_R', 'hand_U', 'opponent_hand_L', 'opponent_hand_R',\n",
      "       'opponent_hand_U', 'best_of_3', 'best_of_5', 'surface_Clay',\n",
      "       'surface_Grass', 'surface_Hard'],\n",
      "      dtype='object')\n"
     ]
    }
   ],
   "source": [
    "X_train, y_train = train_test_split(train_data)\n",
    "X_test19, y_test19 = train_test_split(test_data19)\n",
    "X_test20, y_test20 = train_test_split(test_data20)"
   ]
  },
  {
   "cell_type": "markdown",
   "metadata": {},
   "source": [
    "# 모델링"
   ]
  },
  {
   "cell_type": "code",
   "execution_count": 7,
   "metadata": {},
   "outputs": [],
   "source": [
    "from sklearn.model_selection import GridSearchCV, cross_val_score\n",
    "from sklearn.metrics import f1_score, classification_report, confusion_matrix"
   ]
  },
  {
   "cell_type": "markdown",
   "metadata": {},
   "source": [
    "## 나이브 베이즈"
   ]
  },
  {
   "cell_type": "code",
   "execution_count": 8,
   "metadata": {},
   "outputs": [],
   "source": [
    "from sklearn.naive_bayes import GaussianNB"
   ]
  },
  {
   "cell_type": "code",
   "execution_count": 9,
   "metadata": {},
   "outputs": [
    {
     "name": "stdout",
     "output_type": "stream",
     "text": [
      "Number of mislabeled points out of a total 1682 points : 618\n",
      "Number of mislabeled points out of a total 1682 points : 166\n"
     ]
    }
   ],
   "source": [
    "gnb = GaussianNB()\n",
    "gnb.fit(X_train, y_train)\n",
    "y_pred19 = gnb.predict(X_test19)\n",
    "y_pred20 = gnb.predict(X_test20)\n",
    "print(\"Number of mislabeled points out of a total %d points : %d\"\n",
    "      % (X_test19.shape[0], (y_test19 != y_pred19).sum()))\n",
    "print(\"Number of mislabeled points out of a total %d points : %d\"\n",
    "      % (X_test19.shape[0], (y_test20 != y_pred20).sum()))"
   ]
  },
  {
   "cell_type": "code",
   "execution_count": 10,
   "metadata": {},
   "outputs": [
    {
     "name": "stdout",
     "output_type": "stream",
     "text": [
      "2019\n",
      "              precision    recall  f1-score   support\n",
      "\n",
      "           0       0.63      0.63      0.63       841\n",
      "           1       0.63      0.63      0.63       841\n",
      "\n",
      "    accuracy                           0.63      1682\n",
      "   macro avg       0.63      0.63      0.63      1682\n",
      "weighted avg       0.63      0.63      0.63      1682\n",
      "\n",
      "     \n",
      "2020\n",
      "              precision    recall  f1-score   support\n",
      "\n",
      "           0       0.69      0.69      0.69       272\n",
      "           1       0.69      0.69      0.69       272\n",
      "\n",
      "    accuracy                           0.69       544\n",
      "   macro avg       0.69      0.69      0.69       544\n",
      "weighted avg       0.69      0.69      0.69       544\n",
      "\n"
     ]
    }
   ],
   "source": [
    "print(2019)\n",
    "report = classification_report(y_test19,y_pred19)\n",
    "print(report)\n",
    "print('     ')\n",
    "print(2020)\n",
    "report = classification_report(y_test20,y_pred20)\n",
    "print(report)"
   ]
  },
  {
   "cell_type": "code",
   "execution_count": 11,
   "metadata": {},
   "outputs": [
    {
     "data": {
      "text/plain": [
       "array([[0.67563787, 0.32436213],\n",
       "       [0.59758447, 0.40241553],\n",
       "       [0.43383242, 0.56616758],\n",
       "       ...,\n",
       "       [0.53196846, 0.46803154],\n",
       "       [0.41764888, 0.58235112],\n",
       "       [0.60140039, 0.39859961]])"
      ]
     },
     "execution_count": 11,
     "metadata": {},
     "output_type": "execute_result"
    }
   ],
   "source": [
    "gnb.predict_proba(X_test19)"
   ]
  },
  {
   "cell_type": "markdown",
   "metadata": {},
   "source": [
    "## 로지스틱"
   ]
  },
  {
   "cell_type": "code",
   "execution_count": 12,
   "metadata": {},
   "outputs": [],
   "source": [
    "from sklearn.linear_model import LogisticRegression"
   ]
  },
  {
   "cell_type": "code",
   "execution_count": 13,
   "metadata": {},
   "outputs": [],
   "source": [
    "logistic_model = LogisticRegression(random_state=2020)"
   ]
  },
  {
   "cell_type": "code",
   "execution_count": 14,
   "metadata": {},
   "outputs": [
    {
     "name": "stdout",
     "output_type": "stream",
     "text": [
      "Number of mislabeled points out of a total 1682 points : 604\n",
      "Number of mislabeled points out of a total 1682 points : 162\n"
     ]
    }
   ],
   "source": [
    "logistic = LogisticRegression(random_state=2020)\n",
    "logistic.fit(X_train, y_train)\n",
    "y_pred19 = logistic.predict(X_test19)\n",
    "y_pred20 = logistic.predict(X_test20)\n",
    "print(\"Number of mislabeled points out of a total %d points : %d\"\n",
    "      % (X_test19.shape[0], (y_test19 != y_pred19).sum()))\n",
    "print(\"Number of mislabeled points out of a total %d points : %d\"\n",
    "      % (X_test19.shape[0], (y_test20 != y_pred20).sum()))"
   ]
  },
  {
   "cell_type": "code",
   "execution_count": 15,
   "metadata": {},
   "outputs": [
    {
     "name": "stdout",
     "output_type": "stream",
     "text": [
      "2019\n",
      "              precision    recall  f1-score   support\n",
      "\n",
      "           0       0.64      0.64      0.64       841\n",
      "           1       0.64      0.64      0.64       841\n",
      "\n",
      "    accuracy                           0.64      1682\n",
      "   macro avg       0.64      0.64      0.64      1682\n",
      "weighted avg       0.64      0.64      0.64      1682\n",
      "\n",
      "     \n",
      "2020\n",
      "              precision    recall  f1-score   support\n",
      "\n",
      "           0       0.70      0.70      0.70       272\n",
      "           1       0.70      0.70      0.70       272\n",
      "\n",
      "    accuracy                           0.70       544\n",
      "   macro avg       0.70      0.70      0.70       544\n",
      "weighted avg       0.70      0.70      0.70       544\n",
      "\n"
     ]
    }
   ],
   "source": [
    "print(2019)\n",
    "report = classification_report(y_test19,y_pred19)\n",
    "print(report)\n",
    "print('     ')\n",
    "print(2020)\n",
    "report = classification_report(y_test20,y_pred20)\n",
    "print(report)"
   ]
  },
  {
   "cell_type": "code",
   "execution_count": 16,
   "metadata": {},
   "outputs": [
    {
     "name": "stdout",
     "output_type": "stream",
     "text": [
      "Number of mislabeled points out of a total 1682 points : 604\n",
      "Number of mislabeled points out of a total 1682 points : 162\n"
     ]
    }
   ],
   "source": [
    "from sklearn.preprocessing import StandardScaler\n",
    "scaler = StandardScaler()\n",
    "scaler.fit(X_train)\n",
    "\n",
    "logistic_2 = LogisticRegression(random_state=2020)\n",
    "logistic_2.fit(scaler.transform(X_train), y_train)\n",
    "y_pred19 = logistic_2.predict(scaler.transform(X_test19))\n",
    "y_pred20 = logistic_2.predict(scaler.transform(X_test20))\n",
    "print(\"Number of mislabeled points out of a total %d points : %d\"\n",
    "      % (X_test19.shape[0], (y_test19 != y_pred19).sum()))\n",
    "print(\"Number of mislabeled points out of a total %d points : %d\"\n",
    "      % (X_test19.shape[0], (y_test20 != y_pred20).sum()))"
   ]
  },
  {
   "cell_type": "code",
   "execution_count": 17,
   "metadata": {},
   "outputs": [
    {
     "data": {
      "text/plain": [
       "array([[0.7311899 , 0.2688101 ],\n",
       "       [0.63589759, 0.36410241],\n",
       "       [0.43510821, 0.56489179],\n",
       "       ...,\n",
       "       [0.53915035, 0.46084965],\n",
       "       [0.43758928, 0.56241072],\n",
       "       [0.59215929, 0.40784071]])"
      ]
     },
     "execution_count": 17,
     "metadata": {},
     "output_type": "execute_result"
    }
   ],
   "source": [
    "logistic.predict_proba(X_test19)"
   ]
  },
  {
   "cell_type": "markdown",
   "metadata": {},
   "source": [
    "## xgboost"
   ]
  },
  {
   "cell_type": "code",
   "execution_count": 18,
   "metadata": {},
   "outputs": [],
   "source": [
    "from xgboost import XGBClassifier, plot_importance"
   ]
  },
  {
   "cell_type": "code",
   "execution_count": 19,
   "metadata": {},
   "outputs": [],
   "source": [
    "# xgb_rg = XGBClassifier()\n",
    "#\n",
    "# xgb_params = {\n",
    "#     'n_estimators': [200, 400, 600],\n",
    "#     'learning_rate': [0.01, 0.05, 0.1],\n",
    "#     'min_child_weight': [1, 2],\n",
    "#     'gamma': [0.5, 1, 1.5, 2],\n",
    "#     'subsample': [0.6, 0.8, 1.0],\n",
    "#     'colsample_bytree': [0.6, 0.8, 1.0],\n",
    "#     'max_depth': [3, 5]\n",
    "# }\n",
    "# \n",
    "# grid_xgb = GridSearchCV(xgb_rg, param_grid=xgb_params,\n",
    "#                         cv=5, scoring='f1')\n",
    "# \n",
    "# evals = [(X_test19, y_test19)]\n",
    "# grid_xgb.fit(X_train, y_train, eval_set=evals)\n",
    "# grid_xgb.best_estimator_"
   ]
  },
  {
   "cell_type": "code",
   "execution_count": 20,
   "metadata": {},
   "outputs": [
    {
     "data": {
      "text/plain": [
       "XGBClassifier()"
      ]
     },
     "execution_count": 20,
     "metadata": {},
     "output_type": "execute_result"
    }
   ],
   "source": [
    "xgb = XGBClassifier()\n",
    "xgb.fit(X_train, y_train)"
   ]
  },
  {
   "cell_type": "code",
   "execution_count": 21,
   "metadata": {},
   "outputs": [
    {
     "name": "stdout",
     "output_type": "stream",
     "text": [
      "Number of mislabeled points out of a total 1682 points : 621\n",
      "Number of mislabeled points out of a total 1682 points : 171\n"
     ]
    }
   ],
   "source": [
    "y_pred19 = xgb.predict(X_test19)\n",
    "y_pred20 = xgb.predict(X_test20)\n",
    "print(\"Number of mislabeled points out of a total %d points : %d\"\n",
    "      % (X_test19.shape[0], (y_test19 != y_pred19).sum()))\n",
    "print(\"Number of mislabeled points out of a total %d points : %d\"\n",
    "      % (X_test19.shape[0], (y_test20 != y_pred20).sum()))"
   ]
  },
  {
   "cell_type": "code",
   "execution_count": 22,
   "metadata": {},
   "outputs": [
    {
     "name": "stdout",
     "output_type": "stream",
     "text": [
      "2019\n",
      "              precision    recall  f1-score   support\n",
      "\n",
      "           0       0.63      0.63      0.63       841\n",
      "           1       0.63      0.63      0.63       841\n",
      "\n",
      "    accuracy                           0.63      1682\n",
      "   macro avg       0.63      0.63      0.63      1682\n",
      "weighted avg       0.63      0.63      0.63      1682\n",
      "\n",
      "     \n",
      "2020\n",
      "              precision    recall  f1-score   support\n",
      "\n",
      "           0       0.68      0.69      0.69       272\n",
      "           1       0.69      0.68      0.69       272\n",
      "\n",
      "    accuracy                           0.69       544\n",
      "   macro avg       0.69      0.69      0.69       544\n",
      "weighted avg       0.69      0.69      0.69       544\n",
      "\n"
     ]
    }
   ],
   "source": [
    "print(2019)\n",
    "report = classification_report(y_test19,y_pred19)\n",
    "print(report)\n",
    "print('     ')\n",
    "print(2020)\n",
    "report = classification_report(y_test20,y_pred20)\n",
    "print(report)"
   ]
  },
  {
   "cell_type": "code",
   "execution_count": 23,
   "metadata": {
    "scrolled": true
   },
   "outputs": [
    {
     "data": {
      "text/plain": [
       "array([[0.71163714, 0.28836283],\n",
       "       [0.6743979 , 0.3256021 ],\n",
       "       [0.4212224 , 0.5787776 ],\n",
       "       ...,\n",
       "       [0.5642036 , 0.43579638],\n",
       "       [0.40721112, 0.5927889 ],\n",
       "       [0.6274625 , 0.37253752]], dtype=float32)"
      ]
     },
     "execution_count": 23,
     "metadata": {},
     "output_type": "execute_result"
    }
   ],
   "source": [
    "xgb.predict_proba(X_test19)"
   ]
  },
  {
   "cell_type": "code",
   "execution_count": 24,
   "metadata": {
    "scrolled": true
   },
   "outputs": [
    {
     "data": {
      "image/png": "[encoded data removed]",
      "text/plain": [
       "<Figure size 576x396 with 1 Axes>"
      ]
     },
     "metadata": {},
     "output_type": "display_data"
    }
   ],
   "source": [
    "import matplotlib.pyplot as plt\n",
    "\n",
    "plt.style.use('seaborn')\n",
    "\n",
    "plot_importance(xgb)\n",
    "plt.show()"
   ]
  },
  {
   "cell_type": "markdown",
   "metadata": {},
   "source": [
    "## catboost"
   ]
  },
  {
   "cell_type": "code",
   "execution_count": 25,
   "metadata": {},
   "outputs": [],
   "source": [
    "from catboost import CatBoostClassifier"
   ]
  },
  {
   "cell_type": "code",
   "execution_count": 26,
   "metadata": {},
   "outputs": [
    {
     "data": {
      "text/plain": [
       "<catboost.core.CatBoostClassifier at 0x1ee9271d448>"
      ]
     },
     "execution_count": 26,
     "metadata": {},
     "output_type": "execute_result"
    }
   ],
   "source": [
    "catboost = CatBoostClassifier(n_estimators = 1000, learning_rate =0.05, verbose=False)\n",
    "catboost.fit(X_train, y_train)"
   ]
  },
  {
   "cell_type": "code",
   "execution_count": 27,
   "metadata": {},
   "outputs": [
    {
     "name": "stdout",
     "output_type": "stream",
     "text": [
      "Number of mislabeled points out of a total 1682 points : 598\n",
      "Number of mislabeled points out of a total 1682 points : 163\n"
     ]
    }
   ],
   "source": [
    "y_pred19 = catboost.predict(X_test19)\n",
    "y_pred20 = catboost.predict(X_test20)\n",
    "print(\"Number of mislabeled points out of a total %d points : %d\"\n",
    "      % (X_test19.shape[0], (y_test19 != y_pred19).sum()))\n",
    "print(\"Number of mislabeled points out of a total %d points : %d\"\n",
    "      % (X_test19.shape[0], (y_test20 != y_pred20).sum()))"
   ]
  },
  {
   "cell_type": "code",
   "execution_count": 28,
   "metadata": {},
   "outputs": [
    {
     "name": "stdout",
     "output_type": "stream",
     "text": [
      "2019\n",
      "              precision    recall  f1-score   support\n",
      "\n",
      "           0       0.65      0.64      0.64       841\n",
      "           1       0.64      0.65      0.65       841\n",
      "\n",
      "    accuracy                           0.64      1682\n",
      "   macro avg       0.64      0.64      0.64      1682\n",
      "weighted avg       0.64      0.64      0.64      1682\n",
      "\n",
      "     \n",
      "2020\n",
      "              precision    recall  f1-score   support\n",
      "\n",
      "           0       0.70      0.70      0.70       272\n",
      "           1       0.70      0.70      0.70       272\n",
      "\n",
      "    accuracy                           0.70       544\n",
      "   macro avg       0.70      0.70      0.70       544\n",
      "weighted avg       0.70      0.70      0.70       544\n",
      "\n"
     ]
    }
   ],
   "source": [
    "print(2019)\n",
    "report = classification_report(y_test19,y_pred19)\n",
    "print(report)\n",
    "print('     ')\n",
    "print(2020)\n",
    "report = classification_report(y_test20,y_pred20)\n",
    "print(report)"
   ]
  },
  {
   "cell_type": "code",
   "execution_count": 29,
   "metadata": {},
   "outputs": [
    {
     "data": {
      "text/plain": [
       "array([[0.70022347, 0.29977653],\n",
       "       [0.64566558, 0.35433442],\n",
       "       [0.4354065 , 0.5645935 ],\n",
       "       ...,\n",
       "       [0.56305409, 0.43694591],\n",
       "       [0.42156276, 0.57843724],\n",
       "       [0.60548164, 0.39451836]])"
      ]
     },
     "execution_count": 29,
     "metadata": {},
     "output_type": "execute_result"
    }
   ],
   "source": [
    "catboost.predict_proba(X_test19)"
   ]
  }
 ],
 "metadata": {
  "kernelspec": {
   "display_name": "Python 3",
   "language": "python",
   "name": "python3"
  },
  "language_info": {
   "codemirror_mode": {
    "name": "ipython",
    "version": 3
   },
   "file_extension": ".py",
   "mimetype": "text/x-python",
   "name": "python",
   "nbconvert_exporter": "python",
   "pygments_lexer": "ipython3",
   "version": "3.8.3"
  },
  "toc": {
   "base_numbering": 1,
   "nav_menu": {},
   "number_sections": true,
   "sideBar": true,
   "skip_h1_title": false,
   "title_cell": "Table of Contents",
   "title_sidebar": "Contents",
   "toc_cell": false,
   "toc_position": {},
   "toc_section_display": true,
   "toc_window_display": false
  },
  "varInspector": {
   "cols": {
    "lenName": 16,
    "lenType": 16,
    "lenVar": 40
   },
   "kernels_config": {
    "python": {
     "delete_cmd_postfix": "",
     "delete_cmd_prefix": "del ",
     "library": "var_list.py",
     "varRefreshCmd": "print(var_dic_list())"
    },
    "r": {
     "delete_cmd_postfix": ") ",
     "delete_cmd_prefix": "rm(",
     "library": "var_list.r",
     "varRefreshCmd": "cat(var_dic_list()) "
    }
   },
   "types_to_exclude": [
    "module",
    "function",
    "builtin_function_or_method",
    "instance",
    "_Feature"
   ],
   "window_display": false
  }
 },
 "nbformat": 4,
 "nbformat_minor": 4
}
